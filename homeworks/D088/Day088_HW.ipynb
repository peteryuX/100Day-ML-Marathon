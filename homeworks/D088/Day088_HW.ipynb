{
 "cells": [
  {
   "cell_type": "markdown",
   "metadata": {},
   "source": [
    "## Work\n",
    "1. 請嘗試寫一個 callback 用來記錄各類別在訓練過程中，對驗證集的 True Positive 與 True Negative"
   ]
  },
  {
   "cell_type": "code",
   "execution_count": 11,
   "metadata": {},
   "outputs": [],
   "source": [
    "import os\n",
    "import keras\n",
    "import numpy as np\n",
    "\n",
    "# Disable GPU\n",
    "os.environ[\"CUDA_VISIBLE_DEVICES\"] = \"\""
   ]
  },
  {
   "cell_type": "code",
   "execution_count": 2,
   "metadata": {},
   "outputs": [],
   "source": [
    "train, test = keras.datasets.cifar10.load_data()"
   ]
  },
  {
   "cell_type": "code",
   "execution_count": 3,
   "metadata": {},
   "outputs": [],
   "source": [
    "## 資料前處理\n",
    "def preproc_x(x, flatten=True):\n",
    "    x = x / 255.\n",
    "    if flatten:\n",
    "        x = x.reshape((len(x), -1))\n",
    "    return x\n",
    "\n",
    "def preproc_y(y, num_classes=10):\n",
    "    if y.shape[-1] == 1:\n",
    "        y = keras.utils.to_categorical(y, num_classes)\n",
    "    return y    "
   ]
  },
  {
   "cell_type": "code",
   "execution_count": 4,
   "metadata": {},
   "outputs": [],
   "source": [
    "x_train, y_train = train\n",
    "x_test, y_test = test\n",
    "\n",
    "# Preproc the inputs\n",
    "x_train = preproc_x(x_train)\n",
    "x_test = preproc_x(x_test)\n",
    "\n",
    "# Preprc the outputs\n",
    "y_train = preproc_y(y_train)\n",
    "y_test = preproc_y(y_test)"
   ]
  },
  {
   "cell_type": "code",
   "execution_count": 8,
   "metadata": {},
   "outputs": [],
   "source": [
    "from keras.layers import BatchNormalization\n",
    "\n",
    "\"\"\"\n",
    "建立神經網路，並加入 BN layer\n",
    "\"\"\"\n",
    "def build_mlp(input_shape, output_units=10, num_neurons=[512, 256, 128]):\n",
    "    input_layer = keras.layers.Input(input_shape)\n",
    "    \n",
    "    for i, n_units in enumerate(num_neurons):\n",
    "        if i == 0:\n",
    "            x = keras.layers.Dense(units=n_units, \n",
    "                                   activation=\"relu\", \n",
    "                                   name=\"hidden_layer\"+str(i+1))(input_layer)\n",
    "            x = BatchNormalization()(x)\n",
    "        else:\n",
    "            x = keras.layers.Dense(units=n_units, \n",
    "                                   activation=\"relu\", \n",
    "                                   name=\"hidden_layer\"+str(i+1))(x)\n",
    "            x = BatchNormalization()(x)\n",
    "    \n",
    "    out = keras.layers.Dense(units=output_units, activation=\"softmax\", name=\"output\")(x)\n",
    "    \n",
    "    model = keras.models.Model(inputs=[input_layer], outputs=[out])\n",
    "    return model"
   ]
  },
  {
   "cell_type": "code",
   "execution_count": 5,
   "metadata": {},
   "outputs": [],
   "source": [
    "## 超參數設定\n",
    "LEARNING_RATE = 1e-3\n",
    "EPOCHS = 25\n",
    "BATCH_SIZE = 1024\n",
    "MOMENTUM = 0.95"
   ]
  },
  {
   "cell_type": "code",
   "execution_count": 6,
   "metadata": {},
   "outputs": [],
   "source": [
    "# 載入 Callbacks\n",
    "from keras.callbacks import Callback\n",
    "\n",
    "# Record_fp_tp\n",
    "class Record_tp_tn(Callback):\n",
    "    \"\"\"Code Here\n",
    "    撰寫一個紀錄 ture positive 與 true negative 數量的 callbacks    \n",
    "    \"\"\"\n",
    "    def on_train_begin(self, epoch, logs = {}):\n",
    "        logs = logs or {}\n",
    "        record_items = [\"val_fp\", \"val_fn\", \"val_tp\", \"val_tn\"]\n",
    "        for i in record_items:\n",
    "            if i not in self.params['metrics']:\n",
    "                self.params['metrics'].append(i)\n",
    "    def on_epoch_end(self, epoch, logs = {}, thres=0.5):\n",
    "        logs = logs or {}\n",
    "        y_true = self.validation_data[1].argmax(axis = 1)\n",
    "        y_pred = self.model.predict(self.validation_data[0])\n",
    "        y_pred = (y_pred[:, 1] >= thres) * 1\n",
    "        \n",
    "        logs[\"val_tp\"] = np.sum((y_true == y_pred) * y_true)\n",
    "        logs[\"val_tn\"] = np.sum((y_true == y_pred) * (1-y_true))\n",
    "                \n",
    "rec_tptn = Record_tp_tn()"
   ]
  },
  {
   "cell_type": "code",
   "execution_count": 12,
   "metadata": {
    "scrolled": true
   },
   "outputs": [
    {
     "name": "stdout",
     "output_type": "stream",
     "text": [
      "_________________________________________________________________\n",
      "Layer (type)                 Output Shape              Param #   \n",
      "=================================================================\n",
      "input_3 (InputLayer)         (None, 3072)              0         \n",
      "_________________________________________________________________\n",
      "hidden_layer1 (Dense)        (None, 512)               1573376   \n",
      "_________________________________________________________________\n",
      "batch_normalization_7 (Batch (None, 512)               2048      \n",
      "_________________________________________________________________\n",
      "hidden_layer2 (Dense)        (None, 256)               131328    \n",
      "_________________________________________________________________\n",
      "batch_normalization_8 (Batch (None, 256)               1024      \n",
      "_________________________________________________________________\n",
      "hidden_layer3 (Dense)        (None, 128)               32896     \n",
      "_________________________________________________________________\n",
      "batch_normalization_9 (Batch (None, 128)               512       \n",
      "_________________________________________________________________\n",
      "output (Dense)               (None, 10)                1290      \n",
      "=================================================================\n",
      "Total params: 1,742,474\n",
      "Trainable params: 1,740,682\n",
      "Non-trainable params: 1,792\n",
      "_________________________________________________________________\n",
      "Train on 50000 samples, validate on 10000 samples\n",
      "Epoch 1/25\n",
      "50000/50000 [==============================] - 4s 87us/step - loss: 2.2050 - acc: 0.2703 - val_loss: 2.0530 - val_acc: 0.3267\n",
      "Epoch 2/25\n",
      "50000/50000 [==============================] - 3s 67us/step - loss: 1.7441 - acc: 0.3943 - val_loss: 1.8183 - val_acc: 0.3838\n",
      "Epoch 3/25\n",
      "50000/50000 [==============================] - 3s 66us/step - loss: 1.6175 - acc: 0.4372 - val_loss: 1.6879 - val_acc: 0.4154\n",
      "Epoch 4/25\n",
      "50000/50000 [==============================] - 3s 67us/step - loss: 1.5423 - acc: 0.4625 - val_loss: 1.6242 - val_acc: 0.4323\n",
      "Epoch 5/25\n",
      "50000/50000 [==============================] - 3s 66us/step - loss: 1.4857 - acc: 0.4840 - val_loss: 1.5884 - val_acc: 0.4461\n",
      "Epoch 6/25\n",
      "50000/50000 [==============================] - 3s 66us/step - loss: 1.4385 - acc: 0.5008 - val_loss: 1.5548 - val_acc: 0.4543\n",
      "Epoch 7/25\n",
      "50000/50000 [==============================] - 3s 67us/step - loss: 1.3983 - acc: 0.5137 - val_loss: 1.5536 - val_acc: 0.4547\n",
      "Epoch 8/25\n",
      "50000/50000 [==============================] - 3s 67us/step - loss: 1.3614 - acc: 0.5267 - val_loss: 1.5211 - val_acc: 0.4667\n",
      "Epoch 9/25\n",
      "50000/50000 [==============================] - 3s 69us/step - loss: 1.3272 - acc: 0.5387 - val_loss: 1.5133 - val_acc: 0.4647\n",
      "Epoch 10/25\n",
      "50000/50000 [==============================] - 3s 66us/step - loss: 1.2963 - acc: 0.5508 - val_loss: 1.5021 - val_acc: 0.4728\n",
      "Epoch 11/25\n",
      "50000/50000 [==============================] - 3s 66us/step - loss: 1.2674 - acc: 0.5611 - val_loss: 1.4906 - val_acc: 0.4777\n",
      "Epoch 12/25\n",
      "50000/50000 [==============================] - 3s 66us/step - loss: 1.2399 - acc: 0.5711 - val_loss: 1.4869 - val_acc: 0.4828\n",
      "Epoch 13/25\n",
      "50000/50000 [==============================] - 3s 68us/step - loss: 1.2141 - acc: 0.5804 - val_loss: 1.4781 - val_acc: 0.4785\n",
      "Epoch 14/25\n",
      "50000/50000 [==============================] - 3s 67us/step - loss: 1.1878 - acc: 0.5894 - val_loss: 1.4648 - val_acc: 0.4870\n",
      "Epoch 15/25\n",
      "50000/50000 [==============================] - 3s 67us/step - loss: 1.1636 - acc: 0.5996 - val_loss: 1.4781 - val_acc: 0.4872\n",
      "Epoch 16/25\n",
      "50000/50000 [==============================] - 3s 65us/step - loss: 1.1397 - acc: 0.6091 - val_loss: 1.4676 - val_acc: 0.4880\n",
      "Epoch 17/25\n",
      "50000/50000 [==============================] - 3s 66us/step - loss: 1.1152 - acc: 0.6176 - val_loss: 1.4590 - val_acc: 0.4931\n",
      "Epoch 18/25\n",
      "50000/50000 [==============================] - 3s 66us/step - loss: 1.0933 - acc: 0.6267 - val_loss: 1.4627 - val_acc: 0.4891\n",
      "Epoch 19/25\n",
      "50000/50000 [==============================] - 3s 66us/step - loss: 1.0710 - acc: 0.6343 - val_loss: 1.4599 - val_acc: 0.4965\n",
      "Epoch 20/25\n",
      "50000/50000 [==============================] - 3s 66us/step - loss: 1.0499 - acc: 0.6408 - val_loss: 1.4513 - val_acc: 0.4976\n",
      "Epoch 21/25\n",
      "50000/50000 [==============================] - 3s 66us/step - loss: 1.0274 - acc: 0.6535 - val_loss: 1.4540 - val_acc: 0.4993\n",
      "Epoch 22/25\n",
      "50000/50000 [==============================] - 3s 65us/step - loss: 1.0043 - acc: 0.6597 - val_loss: 1.4537 - val_acc: 0.4967\n",
      "Epoch 23/25\n",
      "50000/50000 [==============================] - 3s 65us/step - loss: 0.9860 - acc: 0.6656 - val_loss: 1.4557 - val_acc: 0.4963\n",
      "Epoch 24/25\n",
      "50000/50000 [==============================] - 3s 65us/step - loss: 0.9647 - acc: 0.6756 - val_loss: 1.4670 - val_acc: 0.4976\n",
      "Epoch 25/25\n",
      "50000/50000 [==============================] - 3s 65us/step - loss: 0.9444 - acc: 0.6839 - val_loss: 1.4619 - val_acc: 0.5023\n"
     ]
    }
   ],
   "source": [
    "model = build_mlp(input_shape=x_train.shape[1:])\n",
    "model.summary()\n",
    "optimizer = keras.optimizers.SGD(lr=LEARNING_RATE, nesterov=True, momentum=MOMENTUM)\n",
    "model.compile(loss=\"categorical_crossentropy\", metrics=[\"accuracy\"], optimizer=optimizer)\n",
    "\n",
    "\"\"\"Code Here\n",
    "將 callbacks 放入模型訓練流程中\n",
    "\"\"\"\n",
    "model.fit(x_train, y_train, \n",
    "          epochs=EPOCHS, \n",
    "          batch_size=BATCH_SIZE, \n",
    "          validation_data=(x_test, y_test), \n",
    "          shuffle=True,\n",
    "          callbacks=[rec_tptn])\n",
    "\n",
    "# Collect results\n",
    "train_loss = model.history.history[\"loss\"]\n",
    "valid_loss = model.history.history[\"val_loss\"]\n",
    "train_acc = model.history.history[\"acc\"]\n",
    "valid_acc = model.history.history[\"val_acc\"]\n",
    "\n",
    "\"\"\"Code Here\n",
    "將 tp/tn 從訓練完的模型中取出\n",
    "\"\"\"\n",
    "valid_tp = model.history.history[\"val_tp\"]\n",
    "valid_tn = model.history.history[\"val_tn\"]"
   ]
  },
  {
   "cell_type": "code",
   "execution_count": 13,
   "metadata": {},
   "outputs": [
    {
     "data": {
      "image/png": "[encoded data removed]",
      "text/plain": [
       "<Figure size 432x288 with 1 Axes>"
      ]
     },
     "metadata": {},
     "output_type": "display_data"
    },
    {
     "data": {
      "image/png": "[encoded data removed]",
      "text/plain": [
       "<Figure size 432x288 with 1 Axes>"
      ]
     },
     "metadata": {},
     "output_type": "display_data"
    },
    {
     "data": {
      "image/png": "[encoded data removed]",
      "text/plain": [
       "<Figure size 432x288 with 1 Axes>"
      ]
     },
     "metadata": {},
     "output_type": "display_data"
    }
   ],
   "source": [
    "import matplotlib.pyplot as plt\n",
    "%matplotlib inline\n",
    "\n",
    "plt.plot(range(len(train_loss)), train_loss, label=\"train loss\")\n",
    "plt.plot(range(len(valid_loss)), valid_loss, label=\"valid loss\")\n",
    "plt.legend()\n",
    "plt.title(\"Loss\")\n",
    "plt.show()\n",
    "\n",
    "plt.plot(range(len(train_acc)), train_acc, label=\"train accuracy\")\n",
    "plt.plot(range(len(valid_acc)), valid_acc, label=\"valid accuracy\")\n",
    "plt.legend()\n",
    "plt.title(\"Accuracy\")\n",
    "plt.show()\n",
    "\n",
    "plt.plot(range(len(valid_tp)), valid_tp, label=\"valid tp\", color=\"navy\")\n",
    "plt.plot(range(len(valid_tn)), valid_tn, label=\"valid tn\", color=\"red\")\n",
    "plt.legend()\n",
    "plt.title(\"True positives and True Negatives\")\n",
    "plt.show()\n"
   ]
  },
  {
   "cell_type": "code",
   "execution_count": null,
   "metadata": {},
   "outputs": [],
   "source": []
  }
 ],
 "metadata": {
  "kernelspec": {
   "display_name": "Python 3",
   "language": "python",
   "name": "python3"
  },
  "language_info": {
   "codemirror_mode": {
    "name": "ipython",
    "version": 3
   },
   "file_extension": ".py",
   "mimetype": "text/x-python",
   "name": "python",
   "nbconvert_exporter": "python",
   "pygments_lexer": "ipython3",
   "version": "3.6.5"
  }
 },
 "nbformat": 4,
 "nbformat_minor": 2
}
